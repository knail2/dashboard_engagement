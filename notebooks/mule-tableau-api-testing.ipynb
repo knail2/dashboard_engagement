{
 "cells": [
  {
   "cell_type": "markdown",
   "id": "3dbfc295",
   "metadata": {},
   "source": [
    "## Testing Mule and Tableau APIs through python\n",
    "\n",
    "**Author**: Omer Ansari\n",
    "\n",
    "**Init Date**: 5/30/24\n",
    "    \n",
    "Goal: \n",
    "To have control code which can make calls to Mule and Tableau API.\n",
    "\n",
    "Docs:\n",
    "- Tableau [API](https://help.tableau.com/current/api/rest_api/en-us/REST/rest_api.htm)\n",
    "- Mule [API](https://www.postman.com/salesforce-developers/workspace/salesforce-developers/collection/28629827-392e7c29-e84c-4bd7-9644-39a8e57028d8), [doc](https://blogs.mulesoft.com/dev-guides/how-to-tutorials/get-started-with-platform-apis-and-postman-automation/)\n"
   ]
  },
  {
   "cell_type": "markdown",
   "id": "05cf6183",
   "metadata": {},
   "source": [
    "## Tableau API interaction"
   ]
  },
  {
   "cell_type": "code",
   "execution_count": 1,
   "id": "6133d8f5",
   "metadata": {
    "ExecuteTime": {
     "end_time": "2024-05-31T04:02:03.576321Z",
     "start_time": "2024-05-31T04:02:03.573045Z"
    }
   },
   "outputs": [],
   "source": [
    "# First we pull out the credentials from a local file that is in .gitignore ;)\n",
    "\n",
    "# File path to the credentials file\n",
    "#creds_file_path = '../.tableau_creds'\n",
    "creds_file_path = '../.tableau_token'\n",
    "\n",
    "try:\n",
    "    with open(creds_file_path, 'r') as file:\n",
    "        lines = file.readlines()\n",
    "        \n",
    "        # Assigning username and password from the file lines\n",
    "        token_name = lines[0].strip()\n",
    "        token_password = lines[1].strip()\n",
    "        \n",
    "\n",
    "except FileNotFoundError:\n",
    "    print(f\"The file {creds_file_path} does not exist.\")\n",
    "except IndexError:\n",
    "    print(\"The credentials file does not contain enough lines for username and password.\")\n",
    "except Exception as e:\n",
    "    print(f\"An error occurred: {e}\")"
   ]
  },
  {
   "cell_type": "code",
   "execution_count": 2,
   "id": "de28160e",
   "metadata": {
    "ExecuteTime": {
     "end_time": "2024-05-31T04:02:04.628893Z",
     "start_time": "2024-05-31T04:02:03.577350Z"
    }
   },
   "outputs": [
    {
     "name": "stdout",
     "output_type": "stream",
     "text": [
      "Successfully signed in\n",
      "\n",
      "There are 1 datasources on site: \n",
      "['Superstore Datasource']\n"
     ]
    }
   ],
   "source": [
    "import tableauserverclient as TSC\n",
    "\n",
    "#tab_server = 'https://10ax.online.tableau.com'\n",
    "site_name = 'thecapablemanagerllcf909cfc05e'\n",
    "tab_server = 'https://prod-useast-b.online.tableau.com'\n",
    "\n",
    "#tableau_auth = TSC.TableauAuth(token_name, token_password, site_name)\n",
    "tableau_auth = TSC.PersonalAccessTokenAuth(token_name, token_password, site_name)\n",
    "server = TSC.Server(tab_server, use_server_version=True)\n",
    "try:\n",
    "    with server.auth.sign_in(tableau_auth):\n",
    "        print(\"Successfully signed in\")\n",
    "        all_datasources, pagination_item = server.datasources.get()\n",
    "        print(\"\\nThere are {} datasources on site: \".format(pagination_item.total_available))\n",
    "        print([datasource.name for datasource in all_datasources])\n",
    "except TSC.ServerResponseError as e:\n",
    "    print(f\"ServerResponseError: {e}\")\n",
    "except TSC.NotSignedInError as e:\n",
    "    print(f\"NotSignedInError: {e}\")\n",
    "except Exception as e:\n",
    "    print(f\"An error occurred: {e}\")"
   ]
  },
  {
   "cell_type": "markdown",
   "id": "019d7758",
   "metadata": {},
   "source": [
    "## Mule API interaction"
   ]
  },
  {
   "cell_type": "code",
   "execution_count": null,
   "id": "0437ed34",
   "metadata": {},
   "outputs": [],
   "source": []
  }
 ],
 "metadata": {
  "kernelspec": {
   "display_name": "Python 3 (ipykernel)",
   "language": "python",
   "name": "python3"
  },
  "language_info": {
   "codemirror_mode": {
    "name": "ipython",
    "version": 3
   },
   "file_extension": ".py",
   "mimetype": "text/x-python",
   "name": "python",
   "nbconvert_exporter": "python",
   "pygments_lexer": "ipython3",
   "version": "3.11.6"
  },
  "toc": {
   "base_numbering": 1,
   "nav_menu": {},
   "number_sections": true,
   "sideBar": true,
   "skip_h1_title": false,
   "title_cell": "Table of Contents",
   "title_sidebar": "Contents",
   "toc_cell": false,
   "toc_position": {},
   "toc_section_display": true,
   "toc_window_display": false
  }
 },
 "nbformat": 4,
 "nbformat_minor": 5
}
